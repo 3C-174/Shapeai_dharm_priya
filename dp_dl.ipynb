{
  "nbformat": 4,
  "nbformat_minor": 0,
  "metadata": {
    "colab": {
      "name": "dp_dl.ipynb",
      "provenance": []
    },
    "kernelspec": {
      "name": "python3",
      "display_name": "Python 3"
    },
    "language_info": {
      "name": "python"
    }
  },
  "cells": [
    {
      "cell_type": "code",
      "metadata": {
        "id": "eoMiqwFGsupF"
      },
      "source": [
        "#Importing Dataset\n",
        "from keras.datasets import mnist\n",
        "\n",
        "data = mnist.load_data()"
      ],
      "execution_count": 73,
      "outputs": []
    },
    {
      "cell_type": "code",
      "metadata": {
        "id": "1Um1JY1MmIzH"
      },
      "source": [
        "((X_train, y_train), (X_test, y_test)) = data"
      ],
      "execution_count": 74,
      "outputs": []
    },
    {
      "cell_type": "code",
      "metadata": {
        "id": "wJ07gRlsoknG"
      },
      "source": [
        "#Reshape the training the data\n",
        "X_train = X_train.reshape((X_train.shape[0], 28*28)).astype('float32')\n",
        "X_test = X_test.reshape((X_test.shape[0], 28*28)).astype('float32')"
      ],
      "execution_count": 77,
      "outputs": []
    },
    {
      "cell_type": "code",
      "metadata": {
        "id": "26c67pfrpm6i"
      },
      "source": [
        "#Normalizing values from 0-255 to 0-1\n",
        "X_train = X_train / 255\n",
        "X_test = X_test / 255"
      ],
      "execution_count": 78,
      "outputs": []
    },
    {
      "cell_type": "code",
      "metadata": {
        "colab": {
          "base_uri": "https://localhost:8080/"
        },
        "id": "71xHsZ32qFAl",
        "outputId": "251f4ca7-4572-4731-8360-4499f543dafc"
      },
      "source": [
        "from keras.utils import np_utils\n",
        "\n",
        "print(y_test.shape)\n",
        "\n",
        "y_train = np_utils.to_categorical(y_train)\n",
        "y_test = np_utils.to_categorical(y_test)\n",
        "\n",
        "num_classes = y_test.shape[1]\n",
        "print(y_test.shape)"
      ],
      "execution_count": 79,
      "outputs": [
        {
          "output_type": "stream",
          "text": [
            "(10000,)\n",
            "(10000, 10)\n"
          ],
          "name": "stdout"
        }
      ]
    },
    {
      "cell_type": "code",
      "metadata": {
        "id": "YulAVgjhrXxe"
      },
      "source": [
        "from keras.models import Sequential\n",
        "from keras.layers import Dense"
      ],
      "execution_count": 80,
      "outputs": []
    },
    {
      "cell_type": "code",
      "metadata": {
        "id": "_xGgl64or6jd"
      },
      "source": [
        "model = Sequential()\n",
        "model.add(Dense(32, input_dim = 28*28, activation ='relu'))\n",
        "model.add(Dense(64, activation='relu'))\n",
        "model.add(Dense(10, activation= 'softmax'))"
      ],
      "execution_count": 81,
      "outputs": []
    },
    {
      "cell_type": "code",
      "metadata": {
        "id": "GRm2qD2TvK2E"
      },
      "source": [
        "#Compile model\n",
        "model.compile(loss='categorical_crossentropy', optimizer='adam', metrics=['accuracy'])"
      ],
      "execution_count": 82,
      "outputs": []
    },
    {
      "cell_type": "code",
      "metadata": {
        "id": "5OJTF9LWvqD4",
        "colab": {
          "base_uri": "https://localhost:8080/"
        },
        "outputId": "b4a1f21e-8b96-4337-b116-fca0ee18a25f"
      },
      "source": [
        "#Print Model summary\n",
        "model.summary()"
      ],
      "execution_count": 83,
      "outputs": [
        {
          "output_type": "stream",
          "text": [
            "Model: \"sequential_10\"\n",
            "_________________________________________________________________\n",
            "Layer (type)                 Output Shape              Param #   \n",
            "=================================================================\n",
            "dense_34 (Dense)             (None, 32)                25120     \n",
            "_________________________________________________________________\n",
            "dense_35 (Dense)             (None, 64)                2112      \n",
            "_________________________________________________________________\n",
            "dense_36 (Dense)             (None, 10)                650       \n",
            "=================================================================\n",
            "Total params: 27,882\n",
            "Trainable params: 27,882\n",
            "Non-trainable params: 0\n",
            "_________________________________________________________________\n"
          ],
          "name": "stdout"
        }
      ]
    },
    {
      "cell_type": "code",
      "metadata": {
        "colab": {
          "base_uri": "https://localhost:8080/"
        },
        "id": "_xCZLosYwHgE",
        "outputId": "41dbfb40-d57e-413f-b5ab-9ee214823fcc"
      },
      "source": [
        "#Train the entire model\n",
        "model.fit(X_train, y_train, validation_split=0.2, epochs=10, batch_size=100)"
      ],
      "execution_count": 84,
      "outputs": [
        {
          "output_type": "stream",
          "text": [
            "Epoch 1/10\n",
            "480/480 [==============================] - 2s 3ms/step - loss: 0.8341 - accuracy: 0.7620 - val_loss: 0.2418 - val_accuracy: 0.9296\n",
            "Epoch 2/10\n",
            "480/480 [==============================] - 2s 3ms/step - loss: 0.2393 - accuracy: 0.9303 - val_loss: 0.2022 - val_accuracy: 0.9402\n",
            "Epoch 3/10\n",
            "480/480 [==============================] - 2s 3ms/step - loss: 0.1870 - accuracy: 0.9457 - val_loss: 0.1787 - val_accuracy: 0.9467\n",
            "Epoch 4/10\n",
            "480/480 [==============================] - 2s 3ms/step - loss: 0.1566 - accuracy: 0.9542 - val_loss: 0.1510 - val_accuracy: 0.9553\n",
            "Epoch 5/10\n",
            "480/480 [==============================] - 2s 3ms/step - loss: 0.1304 - accuracy: 0.9612 - val_loss: 0.1471 - val_accuracy: 0.9553\n",
            "Epoch 6/10\n",
            "480/480 [==============================] - 2s 4ms/step - loss: 0.1109 - accuracy: 0.9682 - val_loss: 0.1343 - val_accuracy: 0.9595\n",
            "Epoch 7/10\n",
            "480/480 [==============================] - 2s 4ms/step - loss: 0.0973 - accuracy: 0.9714 - val_loss: 0.1266 - val_accuracy: 0.9620\n",
            "Epoch 8/10\n",
            "480/480 [==============================] - 2s 3ms/step - loss: 0.0883 - accuracy: 0.9732 - val_loss: 0.1273 - val_accuracy: 0.9607\n",
            "Epoch 9/10\n",
            "480/480 [==============================] - 2s 3ms/step - loss: 0.0838 - accuracy: 0.9751 - val_loss: 0.1267 - val_accuracy: 0.9634\n",
            "Epoch 10/10\n",
            "480/480 [==============================] - 2s 3ms/step - loss: 0.0757 - accuracy: 0.9770 - val_loss: 0.1271 - val_accuracy: 0.9618\n"
          ],
          "name": "stdout"
        },
        {
          "output_type": "execute_result",
          "data": {
            "text/plain": [
              "<tensorflow.python.keras.callbacks.History at 0x7f3e59c62e10>"
            ]
          },
          "metadata": {
            "tags": []
          },
          "execution_count": 84
        }
      ]
    },
    {
      "cell_type": "code",
      "metadata": {
        "colab": {
          "base_uri": "https://localhost:8080/"
        },
        "id": "VsU2eXbE1aFR",
        "outputId": "1b431aad-9646-4e07-b740-a3dd7160ff53"
      },
      "source": [
        "scores = model.evaluate(X_test, y_test)\n",
        "print(scores)  ##returns loss not accuracy"
      ],
      "execution_count": 85,
      "outputs": [
        {
          "output_type": "stream",
          "text": [
            "313/313 [==============================] - 1s 2ms/step - loss: 0.1180 - accuracy: 0.9655\n",
            "[0.11801458895206451, 0.965499997138977]\n"
          ],
          "name": "stdout"
        }
      ]
    }
  ]
}